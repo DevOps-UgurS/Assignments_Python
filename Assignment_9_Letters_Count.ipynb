{
  "nbformat": 4,
  "nbformat_minor": 0,
  "metadata": {
    "colab": {
      "name": "Assignment_9_Letters Count.ipynb",
      "provenance": [],
      "collapsed_sections": []
    },
    "kernelspec": {
      "name": "python3",
      "display_name": "Python 3"
    },
    "language_info": {
      "name": "python"
    }
  },
  "cells": [
    {
      "cell_type": "code",
      "metadata": {
        "colab": {
          "base_uri": "https://localhost:8080/"
        },
        "id": "6FhAj8r_wO0z",
        "outputId": "a0e1817e-2d2f-4902-d682-8d330f54c896"
      },
      "source": [
        "# Assignment 008/9 Letters Count\n",
        "#Task: Count the number of each letter in a sentence.\n",
        "#The department you work for undertook a project construction that makes word / text analysis.\n",
        "#You are asked to calculate the number of letters or any chars in the sentences entered under this project.\n",
        "#Write a Python program that;\n",
        "#--takes a sentence from the user,\n",
        "#--counts the number of each letter of the sentence,\n",
        "#--collects the letters/chars as a key and the counted numbers as a value in a dictionary.\n",
        "\n",
        "sentence = input (\"give me a sentence please: \")\n",
        "liste = list(sentence)\n",
        "my_dict = dict()\n",
        "for x in liste:\n",
        "  my_dict[x] = liste.count(x)\n",
        "print(my_dict)"
      ],
      "execution_count": 38,
      "outputs": [
        {
          "output_type": "stream",
          "text": [
            "give me a sentence please: merhaba sayın seyirciler\n",
            "{'m': 1, 'e': 3, 'r': 3, 'h': 1, 'a': 3, 'b': 1, ' ': 2, 's': 2, 'y': 2, 'ı': 1, 'n': 1, 'i': 2, 'c': 1, 'l': 1}\n"
          ],
          "name": "stdout"
        }
      ]
    }
  ]
}