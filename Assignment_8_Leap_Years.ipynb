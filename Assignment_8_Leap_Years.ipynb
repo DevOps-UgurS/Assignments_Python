{
  "nbformat": 4,
  "nbformat_minor": 0,
  "metadata": {
    "colab": {
      "name": "Assignment_8 (Leap Years).ipynb",
      "provenance": [],
      "collapsed_sections": []
    },
    "kernelspec": {
      "name": "python3",
      "display_name": "Python 3"
    },
    "language_info": {
      "name": "python"
    }
  },
  "cells": [
    {
      "cell_type": "code",
      "metadata": {
        "colab": {
          "base_uri": "https://localhost:8080/"
        },
        "id": "etdTf6zZWKLN",
        "outputId": "359c9be3-4be4-41a8-c93e-1f776d21db6b"
      },
      "source": [
        "# Assignment-008/8 (Leap Years)\n",
        "#In the Gregorian calendar, three criteria must be taken into account to identify leap years:\n",
        "# The year must be evenly divisible by 4;\n",
        "# If the year can also be evenly divided by 100, it is not a leap year; unless...\n",
        "# The year is also evenly divisible by 400. Then it is a leap year.\n",
        "\n",
        "year = int(input(\"Please enter  a year : \"))\n",
        "if not year%4 and year%100 or not year%400:\n",
        "  print(year, \"is a leap year\")\n",
        "else :\n",
        "  print(year, \"is not a leap year\")"
      ],
      "execution_count": 25,
      "outputs": [
        {
          "output_type": "stream",
          "text": [
            "Please enter  a year : 2300\n",
            "2300 is not a leap year\n"
          ],
          "name": "stdout"
        }
      ]
    },
    {
      "cell_type": "code",
      "metadata": {
        "colab": {
          "base_uri": "https://localhost:8080/"
        },
        "id": "-xxrxxiuaWdM",
        "outputId": "4c969685-202e-47b3-9426-ebff0ced042a"
      },
      "source": [
        "# The Second Solution using if else in list comprehension\n",
        "year = int(input(\"Please enter  a year : \"))\n",
        "result = (year, \"is a leap year\") if not year%4 and year%100 or not year%400 else (year, \"is not a leap year\")\n",
        "print(result)"
      ],
      "execution_count": 39,
      "outputs": [
        {
          "output_type": "stream",
          "text": [
            "Please enter  a year : 2400\n",
            "(2400, 'is a leap year')\n"
          ],
          "name": "stdout"
        }
      ]
    }
  ]
}