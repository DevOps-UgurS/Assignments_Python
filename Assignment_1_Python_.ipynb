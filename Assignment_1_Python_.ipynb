{
  "nbformat": 4,
  "nbformat_minor": 0,
  "metadata": {
    "colab": {
      "name": "Untitled1.ipynb",
      "provenance": [],
      "collapsed_sections": []
    },
    "kernelspec": {
      "name": "python3",
      "display_name": "Python 3"
    },
    "language_info": {
      "name": "python"
    }
  },
  "cells": [
    {
      "cell_type": "code",
      "metadata": {
        "colab": {
          "base_uri": "https://localhost:8080/"
        },
        "id": "1gFgFGlJf3u-",
        "outputId": "70ad7ad6-19e1-4670-e1cd-b34b462801ac"
      },
      "source": [
        "# Assignment 008/1 if Conditions - 21.04.2021\n",
        "correct_name = \"ulrich\"\n",
        "given_name = input(\"Please enter the name : \")\n",
        "  \n",
        "if given_name == correct_name:\n",
        "  print(\"Hello, Ulrich! The password is : W@12\")\n",
        "else:\n",
        "  print(\"Hello, Steve! See you later.\")  "
      ],
      "execution_count": 1,
      "outputs": [
        {
          "output_type": "stream",
          "text": [
            "Please enter the name : ulrich\n",
            "Hello, Ulrich! The password is : W@12\n"
          ],
          "name": "stdout"
        }
      ]
    }
  ]
}