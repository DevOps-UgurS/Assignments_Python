{
  "nbformat": 4,
  "nbformat_minor": 0,
  "metadata": {
    "colab": {
      "name": "Assignment_008/4_PrimeNumber.ipynb",
      "provenance": [],
      "collapsed_sections": []
    },
    "kernelspec": {
      "name": "python3",
      "display_name": "Python 3"
    },
    "language_info": {
      "name": "python"
    }
  },
  "cells": [
    {
      "cell_type": "code",
      "metadata": {
        "colab": {
          "base_uri": "https://localhost:8080/"
        },
        "id": "xeVVS1mlyXzt",
        "outputId": "15e02f57-71b6-43f3-b89f-20f51a3fd453"
      },
      "source": [
        "#Assignment-008/4 (Prime Number Calculation)- 27.04.2021\n",
        "liste = [2, 3, 5, 7]\n",
        "new_list = []\n",
        "number = input(\"Please enter a number : \")\n",
        "if number.isdigit() :\n",
        "  if int(number) != 2 and int(number) != 3 and int(number) != 5 and int(number) != 7 :\n",
        "    for i in liste :\n",
        "      new_list.append(int(number)%i)\n",
        "    if 0 in new_list or int(int(number) ** 0.5) == int(number) ** 0.5 :\n",
        "      print(number,\"is not a prime number.\")\n",
        "    else:\n",
        "      print(number,\"is a prime number.\")\n",
        "  else :\n",
        "    print(number,\"is a prime number.\")\n",
        "else :\n",
        "  print(\"Please enter a positive number.\")"
      ],
      "execution_count": 47,
      "outputs": [
        {
          "output_type": "stream",
          "text": [
            "Please enter a number : 4\n",
            "4 is not a prime number.\n"
          ],
          "name": "stdout"
        }
      ]
    }
  ]
}