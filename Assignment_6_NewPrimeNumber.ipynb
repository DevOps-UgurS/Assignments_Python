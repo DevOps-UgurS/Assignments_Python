{
  "nbformat": 4,
  "nbformat_minor": 0,
  "metadata": {
    "colab": {
      "name": "Assignment_008/6 NewPrimeNumber.ipynb",
      "provenance": [],
      "collapsed_sections": []
    },
    "kernelspec": {
      "name": "python3",
      "display_name": "Python 3"
    },
    "language_info": {
      "name": "python"
    }
  },
  "cells": [
    {
      "cell_type": "code",
      "metadata": {
        "colab": {
          "base_uri": "https://localhost:8080/"
        },
        "id": "l9OdzcwN5u4z",
        "outputId": "2e7eca88-740a-4e50-9cca-2638109dff36"
      },
      "source": [
        "# Assignment 008/6 Prime Number (Again) 05.05.2021\n",
        "number = int(input(\"Please enter a number  : \"))\n",
        "prime_list = []\n",
        "for i in range(1, number+1) :\n",
        "  counter = 0\n",
        "  for ii in range(1, number+1):\n",
        "    if not i % ii :      \n",
        "      counter += 1\n",
        "  if counter == 2 :\n",
        "    prime_list.append(i)\n",
        "\n",
        "print(prime_list)"
      ],
      "execution_count": 1,
      "outputs": [
        {
          "output_type": "stream",
          "text": [
            "Please enter a number  : 100\n",
            "[2, 3, 5, 7, 11, 13, 17, 19, 23, 29, 31, 37, 41, 43, 47, 53, 59, 61, 67, 71, 73, 79, 83, 89, 97]\n"
          ],
          "name": "stdout"
        }
      ]
    }
  ]
}