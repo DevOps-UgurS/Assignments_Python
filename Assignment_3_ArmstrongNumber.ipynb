{
  "nbformat": 4,
  "nbformat_minor": 0,
  "metadata": {
    "colab": {
      "name": "Assignment_008/3_C8163-Ulrich.ipynb",
      "provenance": [],
      "collapsed_sections": []
    },
    "kernelspec": {
      "name": "python3",
      "display_name": "Python 3"
    },
    "language_info": {
      "name": "python"
    }
  },
  "cells": [
    {
      "cell_type": "code",
      "metadata": {
        "colab": {
          "base_uri": "https://localhost:8080/"
        },
        "id": "5OHgm7gAjeUl",
        "outputId": "05508926-6be3-4a63-9b88-7f5730205fab"
      },
      "source": [
        "# Assignment-008/3 (Armstrong Number Calculation)\n",
        "result = 0\n",
        "number = input(\"Please enter a positive number : \")\n",
        "if number.isdigit() :\n",
        "  for i in number :\n",
        "    result = result + (int(i)) ** len(number) \n",
        "  if result == int(number):\n",
        "    print(number, \"is an Armstrong number.\")\n",
        "  else:\n",
        "    print(number, \"is not an Armstrong number.\")\n",
        "else :\n",
        "  print(\"It is invalid entry.Don't use non-numeric, float, or negative values!\")"
      ],
      "execution_count": null,
      "outputs": [
        {
          "output_type": "stream",
          "text": [
            "Please enter a positive number :  55 \n",
            "It is invalid entry.Don't use non-numeric, float, or negative values!\n"
          ],
          "name": "stdout"
        }
      ]
    },
    {
      "cell_type": "code",
      "metadata": {
        "colab": {
          "base_uri": "https://localhost:8080/"
        },
        "id": "RIyDjizvN4G6",
        "outputId": "c1f30c0c-ee10-4231-afea-4855c2a1a49d"
      },
      "source": [
        "# Assignment-008/3 - (The Second Solution without using method)\n",
        "result = 0\n",
        "integers = set(\"0, 1, 2, 3, 4, 5, 6 ,7, 8, 9\")\n",
        "number = input(\"Please enter a positive number : \")\n",
        "if bool(set(number) - integers) :\n",
        "  print(\"It is invalid entry.Don't use non-numeric, float, or negative values!\")\n",
        "elif number == \"0\":\n",
        "  print(\"It is invalid entry.Don't use non-numeric, float, or negative values!\")\n",
        "else :\n",
        "  for i in number :\n",
        "    result = result + (int(i)) ** len(number) \n",
        "  if result == int(number):\n",
        "    print(number, \"is an Armstrong number.\")\n",
        "  else:\n",
        "    print(number, \"is not an Armstrong number.\")\n"
      ],
      "execution_count": null,
      "outputs": [
        {
          "output_type": "stream",
          "text": [
            "Please enter a positive number : nkjknk\n",
            "It is invalid entry.Don't use non-numeric, float, or negative values!\n"
          ],
          "name": "stdout"
        }
      ]
    }
  ]
}