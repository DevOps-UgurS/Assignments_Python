{
  "nbformat": 4,
  "nbformat_minor": 0,
  "metadata": {
    "colab": {
      "name": "Assignment_Covid-19 Risk.ipynb",
      "provenance": [],
      "collapsed_sections": []
    },
    "kernelspec": {
      "name": "python3",
      "display_name": "Python 3"
    },
    "language_info": {
      "name": "python"
    }
  },
  "cells": [
    {
      "cell_type": "code",
      "metadata": {
        "colab": {
          "base_uri": "https://localhost:8080/"
        },
        "id": "HrI1tKRwigKs",
        "outputId": "5c312fb0-0cf3-4a4d-dfd2-fdc8889e6c3c"
      },
      "source": [
        "# Assignment 008/2 \"Estiamating the risk of death from coronavirus\"\n",
        "age = input(\"Are you a cigarette addict older than 75 years old? (Yes or No): \").title() == \"Yes\"\n",
        "chronic = input(\"Do you have a severe chronic disease? (Yes or No): \").title() == \"Yes\"\n",
        "immune = input(\"Is your immune system too weak? (Yes or No): \").title() == \"Yes\"\n",
        "if age or chronic or immune:\n",
        "  print(\"You are in risky group\")\n",
        "else:\n",
        "  print(\"You are not in risky group\")"
      ],
      "execution_count": 1,
      "outputs": [
        {
          "output_type": "stream",
          "text": [
            "Are you a cigarette addict older than 75 years old? (Yes or No): yes\n",
            "Do you have a severe chronic disease? (Yes or No): no\n",
            "Is your immune system too weak? (Yes or No): no\n",
            "You are in risky group\n"
          ],
          "name": "stdout"
        }
      ]
    }
  ]
}