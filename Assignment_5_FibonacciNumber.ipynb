{
  "nbformat": 4,
  "nbformat_minor": 0,
  "metadata": {
    "colab": {
      "name": "Assignment_008/5 FibonacciNumber.ipynb",
      "provenance": [],
      "collapsed_sections": []
    },
    "kernelspec": {
      "name": "python3",
      "display_name": "Python 3"
    },
    "language_info": {
      "name": "python"
    }
  },
  "cells": [
    {
      "cell_type": "code",
      "metadata": {
        "colab": {
          "base_uri": "https://localhost:8080/"
        },
        "id": "a9hHt4nXi7mm",
        "outputId": "ee750ef5-56d9-4ca4-e27d-fd49b41c826f"
      },
      "source": [
        "#Assignment 008/5 Fibonacci Number\n",
        "# Task : Create a list consisting of Fibonacci numbers from 1 to 55 using control flow statements.\n",
        "number = 1\n",
        "fibonacci_list = [1]\n",
        "for i in \"fibonacci\":\n",
        "  fibonacci_list.append(number)\n",
        "  number += fibonacci_list[-2]\n",
        "print(fibonacci_list)"
      ],
      "execution_count": null,
      "outputs": [
        {
          "output_type": "stream",
          "text": [
            "[1, 1, 2, 3, 5, 8, 13, 21, 34, 55]\n"
          ],
          "name": "stdout"
        }
      ]
    }
  ]
}